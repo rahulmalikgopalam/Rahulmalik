{
 "cells": [
  {
   "cell_type": "markdown",
   "id": "4aab3321",
   "metadata": {},
   "source": [
    "# GOPALAM.RAHUL MALIK\n",
    "AM.EN.U4EEE20030\n",
    "MACHINE LEARNING\n",
    "LAB-ASSIGNMENT -01"
   ]
  },
  {
   "cell_type": "code",
   "execution_count": null,
   "id": "407a860e",
   "metadata": {},
   "outputs": [],
   "source": [
    "import numpy as np\n",
    "import matplotlib.pyplot as plt\n",
    "import pandas as pd\n",
    "from sklearn.linear_model import LinearRegression\n",
    "\n",
    "#Gopalam.Rahul Malik\n",
    "#AM.EN.U4EEE20030\n",
    "\n"
   ]
  },
  {
   "cell_type": "code",
   "execution_count": 78,
   "id": "0b7a22e8",
   "metadata": {},
   "outputs": [
    {
     "data": {
      "text/html": [
       "<div>\n",
       "<style scoped>\n",
       "    .dataframe tbody tr th:only-of-type {\n",
       "        vertical-align: middle;\n",
       "    }\n",
       "\n",
       "    .dataframe tbody tr th {\n",
       "        vertical-align: top;\n",
       "    }\n",
       "\n",
       "    .dataframe thead th {\n",
       "        text-align: right;\n",
       "    }\n",
       "</style>\n",
       "<table border=\"1\" class=\"dataframe\">\n",
       "  <thead>\n",
       "    <tr style=\"text-align: right;\">\n",
       "      <th></th>\n",
       "      <th>0</th>\n",
       "      <th>1</th>\n",
       "      <th>2</th>\n",
       "      <th>3</th>\n",
       "    </tr>\n",
       "  </thead>\n",
       "  <tbody>\n",
       "    <tr>\n",
       "      <th>0</th>\n",
       "      <td>Bedroom</td>\n",
       "      <td>Sq. foot</td>\n",
       "      <td>Locality</td>\n",
       "      <td>Price ($)</td>\n",
       "    </tr>\n",
       "    <tr>\n",
       "      <th>1</th>\n",
       "      <td>2</td>\n",
       "      <td>1500</td>\n",
       "      <td>Good</td>\n",
       "      <td>300000</td>\n",
       "    </tr>\n",
       "    <tr>\n",
       "      <th>2</th>\n",
       "      <td>3</td>\n",
       "      <td>1300</td>\n",
       "      <td>Fair</td>\n",
       "      <td>240000</td>\n",
       "    </tr>\n",
       "    <tr>\n",
       "      <th>3</th>\n",
       "      <td>3</td>\n",
       "      <td>1900</td>\n",
       "      <td>Very good</td>\n",
       "      <td>450000</td>\n",
       "    </tr>\n",
       "    <tr>\n",
       "      <th>4</th>\n",
       "      <td>3</td>\n",
       "      <td>1850</td>\n",
       "      <td>Bad</td>\n",
       "      <td>280000</td>\n",
       "    </tr>\n",
       "    <tr>\n",
       "      <th>5</th>\n",
       "      <td>2</td>\n",
       "      <td>1640</td>\n",
       "      <td>Good</td>\n",
       "      <td>310000</td>\n",
       "    </tr>\n",
       "  </tbody>\n",
       "</table>\n",
       "</div>"
      ],
      "text/plain": [
       "         0          1           2           3\n",
       "0  Bedroom   Sq. foot    Locality   Price ($)\n",
       "1        2       1500        Good      300000\n",
       "2        3       1300        Fair      240000\n",
       "3        3       1900   Very good      450000\n",
       "4        3       1850         Bad      280000\n",
       "5        2       1640        Good      310000"
      ]
     },
     "execution_count": 78,
     "metadata": {},
     "output_type": "execute_result"
    }
   ],
   "source": [
    "data=pd.read_csv('CSV_EX_1.csv',header=None)\n",
    "data"
   ]
  },
  {
   "cell_type": "code",
   "execution_count": 79,
   "id": "ec85c7ab",
   "metadata": {},
   "outputs": [
    {
     "data": {
      "text/plain": [
       "<matplotlib.collections.PathCollection at 0x1a206be0e50>"
      ]
     },
     "execution_count": 79,
     "metadata": {},
     "output_type": "execute_result"
    },
    {
     "data": {
      "image/png": "[encoded data removed]",
      "text/plain": [
       "<Figure size 640x480 with 1 Axes>"
      ]
     },
     "metadata": {},
     "output_type": "display_data"
    }
   ],
   "source": [
    "plt.scatter(data[0],data[1])"
   ]
  },
  {
   "cell_type": "code",
   "execution_count": null,
   "id": "3303f867",
   "metadata": {},
   "outputs": [],
   "source": [
    "data[0]"
   ]
  },
  {
   "cell_type": "code",
   "execution_count": null,
   "id": "25bbb622",
   "metadata": {},
   "outputs": [],
   "source": [
    "data[1]"
   ]
  },
  {
   "cell_type": "code",
   "execution_count": 116,
   "id": "65bf7c51",
   "metadata": {},
   "outputs": [],
   "source": [
    "#now going to convert data form into arrays....like since we have some matrix multiplication\n"
   ]
  },
  {
   "cell_type": "code",
   "execution_count": 117,
   "id": "2d275cb1",
   "metadata": {},
   "outputs": [],
   "source": [
    "data_n=data.values"
   ]
  },
  {
   "cell_type": "code",
   "execution_count": 118,
   "id": "3f1ca2ce",
   "metadata": {},
   "outputs": [
    {
     "data": {
      "text/plain": [
       "array([[ 6.1101 , 17.592  ],\n",
       "       [ 5.5277 ,  9.1302 ],\n",
       "       [ 8.5186 , 13.662  ],\n",
       "       [ 7.0032 , 11.854  ],\n",
       "       [ 5.8598 ,  6.8233 ],\n",
       "       [ 8.3829 , 11.886  ],\n",
       "       [ 7.4764 ,  4.3483 ],\n",
       "       [ 8.5781 , 12.     ],\n",
       "       [ 6.4862 ,  6.5987 ],\n",
       "       [ 5.0546 ,  3.8166 ],\n",
       "       [ 5.7107 ,  3.2522 ],\n",
       "       [14.164  , 15.505  ],\n",
       "       [ 5.734  ,  3.1551 ],\n",
       "       [ 8.4084 ,  7.2258 ],\n",
       "       [ 5.6407 ,  0.71618],\n",
       "       [ 5.3794 ,  3.5129 ],\n",
       "       [ 6.3654 ,  5.3048 ],\n",
       "       [ 5.1301 ,  0.56077],\n",
       "       [ 6.4296 ,  3.6518 ],\n",
       "       [ 7.0708 ,  5.3893 ],\n",
       "       [ 6.1891 ,  3.1386 ],\n",
       "       [20.27   , 21.767  ],\n",
       "       [ 5.4901 ,  4.263  ],\n",
       "       [ 6.3261 ,  5.1875 ],\n",
       "       [ 5.5649 ,  3.0825 ],\n",
       "       [18.945  , 22.638  ],\n",
       "       [12.828  , 13.501  ],\n",
       "       [10.957  ,  7.0467 ],\n",
       "       [13.176  , 14.692  ],\n",
       "       [22.203  , 24.147  ],\n",
       "       [ 5.2524 , -1.22   ],\n",
       "       [ 6.5894 ,  5.9966 ],\n",
       "       [ 9.2482 , 12.134  ],\n",
       "       [ 5.8918 ,  1.8495 ],\n",
       "       [ 8.2111 ,  6.5426 ],\n",
       "       [ 7.9334 ,  4.5623 ],\n",
       "       [ 8.0959 ,  4.1164 ],\n",
       "       [ 5.6063 ,  3.3928 ],\n",
       "       [12.836  , 10.117  ],\n",
       "       [ 6.3534 ,  5.4974 ],\n",
       "       [ 5.4069 ,  0.55657],\n",
       "       [ 6.8825 ,  3.9115 ],\n",
       "       [11.708  ,  5.3854 ],\n",
       "       [ 5.7737 ,  2.4406 ],\n",
       "       [ 7.8247 ,  6.7318 ],\n",
       "       [ 7.0931 ,  1.0463 ],\n",
       "       [ 5.0702 ,  5.1337 ],\n",
       "       [ 5.8014 ,  1.844  ],\n",
       "       [11.7    ,  8.0043 ],\n",
       "       [ 5.5416 ,  1.0179 ],\n",
       "       [ 7.5402 ,  6.7504 ],\n",
       "       [ 5.3077 ,  1.8396 ],\n",
       "       [ 7.4239 ,  4.2885 ],\n",
       "       [ 7.6031 ,  4.9981 ],\n",
       "       [ 6.3328 ,  1.4233 ],\n",
       "       [ 6.3589 , -1.4211 ],\n",
       "       [ 6.2742 ,  2.4756 ],\n",
       "       [ 5.6397 ,  4.6042 ],\n",
       "       [ 9.3102 ,  3.9624 ],\n",
       "       [ 9.4536 ,  5.4141 ],\n",
       "       [ 8.8254 ,  5.1694 ],\n",
       "       [ 5.1793 , -0.74279],\n",
       "       [21.279  , 17.929  ],\n",
       "       [14.908  , 12.054  ],\n",
       "       [18.959  , 17.054  ],\n",
       "       [ 7.2182 ,  4.8852 ],\n",
       "       [ 8.2951 ,  5.7442 ],\n",
       "       [10.236  ,  7.7754 ],\n",
       "       [ 5.4994 ,  1.0173 ],\n",
       "       [20.341  , 20.992  ],\n",
       "       [10.136  ,  6.6799 ],\n",
       "       [ 7.3345 ,  4.0259 ],\n",
       "       [ 6.0062 ,  1.2784 ],\n",
       "       [ 7.2259 ,  3.3411 ],\n",
       "       [ 5.0269 , -2.6807 ],\n",
       "       [ 6.5479 ,  0.29678],\n",
       "       [ 7.5386 ,  3.8845 ],\n",
       "       [ 5.0365 ,  5.7014 ],\n",
       "       [10.274  ,  6.7526 ],\n",
       "       [ 5.1077 ,  2.0576 ],\n",
       "       [ 5.7292 ,  0.47953],\n",
       "       [ 5.1884 ,  0.20421],\n",
       "       [ 6.3557 ,  0.67861],\n",
       "       [ 9.7687 ,  7.5435 ],\n",
       "       [ 6.5159 ,  5.3436 ],\n",
       "       [ 8.5172 ,  4.2415 ],\n",
       "       [ 9.1802 ,  6.7981 ],\n",
       "       [ 6.002  ,  0.92695],\n",
       "       [ 5.5204 ,  0.152  ],\n",
       "       [ 5.0594 ,  2.8214 ],\n",
       "       [ 5.7077 ,  1.8451 ],\n",
       "       [ 7.6366 ,  4.2959 ],\n",
       "       [ 5.8707 ,  7.2029 ],\n",
       "       [ 5.3054 ,  1.9869 ],\n",
       "       [ 8.2934 ,  0.14454],\n",
       "       [13.394  ,  9.0551 ],\n",
       "       [ 5.4369 ,  0.61705]])"
      ]
     },
     "execution_count": 118,
     "metadata": {},
     "output_type": "execute_result"
    }
   ],
   "source": [
    "data_n"
   ]
  },
  {
   "cell_type": "code",
   "execution_count": 119,
   "id": "9463c2e4",
   "metadata": {},
   "outputs": [
    {
     "data": {
      "text/html": [
       "<div>\n",
       "<style scoped>\n",
       "    .dataframe tbody tr th:only-of-type {\n",
       "        vertical-align: middle;\n",
       "    }\n",
       "\n",
       "    .dataframe tbody tr th {\n",
       "        vertical-align: top;\n",
       "    }\n",
       "\n",
       "    .dataframe thead th {\n",
       "        text-align: right;\n",
       "    }\n",
       "</style>\n",
       "<table border=\"1\" class=\"dataframe\">\n",
       "  <thead>\n",
       "    <tr style=\"text-align: right;\">\n",
       "      <th></th>\n",
       "      <th>0</th>\n",
       "      <th>1</th>\n",
       "    </tr>\n",
       "  </thead>\n",
       "  <tbody>\n",
       "    <tr>\n",
       "      <th>0</th>\n",
       "      <td>6.1101</td>\n",
       "      <td>17.59200</td>\n",
       "    </tr>\n",
       "    <tr>\n",
       "      <th>1</th>\n",
       "      <td>5.5277</td>\n",
       "      <td>9.13020</td>\n",
       "    </tr>\n",
       "    <tr>\n",
       "      <th>2</th>\n",
       "      <td>8.5186</td>\n",
       "      <td>13.66200</td>\n",
       "    </tr>\n",
       "    <tr>\n",
       "      <th>3</th>\n",
       "      <td>7.0032</td>\n",
       "      <td>11.85400</td>\n",
       "    </tr>\n",
       "    <tr>\n",
       "      <th>4</th>\n",
       "      <td>5.8598</td>\n",
       "      <td>6.82330</td>\n",
       "    </tr>\n",
       "    <tr>\n",
       "      <th>...</th>\n",
       "      <td>...</td>\n",
       "      <td>...</td>\n",
       "    </tr>\n",
       "    <tr>\n",
       "      <th>92</th>\n",
       "      <td>5.8707</td>\n",
       "      <td>7.20290</td>\n",
       "    </tr>\n",
       "    <tr>\n",
       "      <th>93</th>\n",
       "      <td>5.3054</td>\n",
       "      <td>1.98690</td>\n",
       "    </tr>\n",
       "    <tr>\n",
       "      <th>94</th>\n",
       "      <td>8.2934</td>\n",
       "      <td>0.14454</td>\n",
       "    </tr>\n",
       "    <tr>\n",
       "      <th>95</th>\n",
       "      <td>13.3940</td>\n",
       "      <td>9.05510</td>\n",
       "    </tr>\n",
       "    <tr>\n",
       "      <th>96</th>\n",
       "      <td>5.4369</td>\n",
       "      <td>0.61705</td>\n",
       "    </tr>\n",
       "  </tbody>\n",
       "</table>\n",
       "<p>97 rows × 2 columns</p>\n",
       "</div>"
      ],
      "text/plain": [
       "          0         1\n",
       "0    6.1101  17.59200\n",
       "1    5.5277   9.13020\n",
       "2    8.5186  13.66200\n",
       "3    7.0032  11.85400\n",
       "4    5.8598   6.82330\n",
       "..      ...       ...\n",
       "92   5.8707   7.20290\n",
       "93   5.3054   1.98690\n",
       "94   8.2934   0.14454\n",
       "95  13.3940   9.05510\n",
       "96   5.4369   0.61705\n",
       "\n",
       "[97 rows x 2 columns]"
      ]
     },
     "execution_count": 119,
     "metadata": {},
     "output_type": "execute_result"
    }
   ],
   "source": [
    "data = pd.read_csv('ex1data1.txt', header=None)\n",
    "data\n",
    "# importing the dataset from the csv file to preprocess input data"
   ]
  },
  {
   "cell_type": "code",
   "execution_count": 120,
   "id": "12b3767e",
   "metadata": {},
   "outputs": [
    {
     "data": {
      "text/plain": [
       "<matplotlib.collections.PathCollection at 0x1a20643f970>"
      ]
     },
     "execution_count": 120,
     "metadata": {},
     "output_type": "execute_result"
    },
    {
     "data": {
      "image/png": "[encoded data removed]",
      "text/plain": [
       "<Figure size 640x480 with 1 Axes>"
      ]
     },
     "metadata": {},
     "output_type": "display_data"
    }
   ],
   "source": [
    "plt.scatter(data[0],data[1])"
   ]
  },
  {
   "cell_type": "code",
   "execution_count": 121,
   "id": "f42eaa48",
   "metadata": {},
   "outputs": [
    {
     "data": {
      "text/html": [
       "<div>\n",
       "<style scoped>\n",
       "    .dataframe tbody tr th:only-of-type {\n",
       "        vertical-align: middle;\n",
       "    }\n",
       "\n",
       "    .dataframe tbody tr th {\n",
       "        vertical-align: top;\n",
       "    }\n",
       "\n",
       "    .dataframe thead th {\n",
       "        text-align: right;\n",
       "    }\n",
       "</style>\n",
       "<table border=\"1\" class=\"dataframe\">\n",
       "  <thead>\n",
       "    <tr style=\"text-align: right;\">\n",
       "      <th></th>\n",
       "      <th>0</th>\n",
       "      <th>1</th>\n",
       "    </tr>\n",
       "  </thead>\n",
       "  <tbody>\n",
       "    <tr>\n",
       "      <th>0</th>\n",
       "      <td>6.1101</td>\n",
       "      <td>17.5920</td>\n",
       "    </tr>\n",
       "    <tr>\n",
       "      <th>1</th>\n",
       "      <td>5.5277</td>\n",
       "      <td>9.1302</td>\n",
       "    </tr>\n",
       "    <tr>\n",
       "      <th>2</th>\n",
       "      <td>8.5186</td>\n",
       "      <td>13.6620</td>\n",
       "    </tr>\n",
       "    <tr>\n",
       "      <th>3</th>\n",
       "      <td>7.0032</td>\n",
       "      <td>11.8540</td>\n",
       "    </tr>\n",
       "    <tr>\n",
       "      <th>4</th>\n",
       "      <td>5.8598</td>\n",
       "      <td>6.8233</td>\n",
       "    </tr>\n",
       "  </tbody>\n",
       "</table>\n",
       "</div>"
      ],
      "text/plain": [
       "        0        1\n",
       "0  6.1101  17.5920\n",
       "1  5.5277   9.1302\n",
       "2  8.5186  13.6620\n",
       "3  7.0032  11.8540\n",
       "4  5.8598   6.8233"
      ]
     },
     "execution_count": 121,
     "metadata": {},
     "output_type": "execute_result"
    }
   ],
   "source": [
    "data.head()"
   ]
  },
  {
   "cell_type": "code",
   "execution_count": 122,
   "id": "89c8d01f",
   "metadata": {},
   "outputs": [
    {
     "data": {
      "text/plain": [
       "array([[ 6.1101 , 17.592  ],\n",
       "       [ 5.5277 ,  9.1302 ],\n",
       "       [ 8.5186 , 13.662  ],\n",
       "       [ 7.0032 , 11.854  ],\n",
       "       [ 5.8598 ,  6.8233 ],\n",
       "       [ 8.3829 , 11.886  ],\n",
       "       [ 7.4764 ,  4.3483 ],\n",
       "       [ 8.5781 , 12.     ],\n",
       "       [ 6.4862 ,  6.5987 ],\n",
       "       [ 5.0546 ,  3.8166 ],\n",
       "       [ 5.7107 ,  3.2522 ],\n",
       "       [14.164  , 15.505  ],\n",
       "       [ 5.734  ,  3.1551 ],\n",
       "       [ 8.4084 ,  7.2258 ],\n",
       "       [ 5.6407 ,  0.71618],\n",
       "       [ 5.3794 ,  3.5129 ],\n",
       "       [ 6.3654 ,  5.3048 ],\n",
       "       [ 5.1301 ,  0.56077],\n",
       "       [ 6.4296 ,  3.6518 ],\n",
       "       [ 7.0708 ,  5.3893 ],\n",
       "       [ 6.1891 ,  3.1386 ],\n",
       "       [20.27   , 21.767  ],\n",
       "       [ 5.4901 ,  4.263  ],\n",
       "       [ 6.3261 ,  5.1875 ],\n",
       "       [ 5.5649 ,  3.0825 ],\n",
       "       [18.945  , 22.638  ],\n",
       "       [12.828  , 13.501  ],\n",
       "       [10.957  ,  7.0467 ],\n",
       "       [13.176  , 14.692  ],\n",
       "       [22.203  , 24.147  ],\n",
       "       [ 5.2524 , -1.22   ],\n",
       "       [ 6.5894 ,  5.9966 ],\n",
       "       [ 9.2482 , 12.134  ],\n",
       "       [ 5.8918 ,  1.8495 ],\n",
       "       [ 8.2111 ,  6.5426 ],\n",
       "       [ 7.9334 ,  4.5623 ],\n",
       "       [ 8.0959 ,  4.1164 ],\n",
       "       [ 5.6063 ,  3.3928 ],\n",
       "       [12.836  , 10.117  ],\n",
       "       [ 6.3534 ,  5.4974 ],\n",
       "       [ 5.4069 ,  0.55657],\n",
       "       [ 6.8825 ,  3.9115 ],\n",
       "       [11.708  ,  5.3854 ],\n",
       "       [ 5.7737 ,  2.4406 ],\n",
       "       [ 7.8247 ,  6.7318 ],\n",
       "       [ 7.0931 ,  1.0463 ],\n",
       "       [ 5.0702 ,  5.1337 ],\n",
       "       [ 5.8014 ,  1.844  ],\n",
       "       [11.7    ,  8.0043 ],\n",
       "       [ 5.5416 ,  1.0179 ],\n",
       "       [ 7.5402 ,  6.7504 ],\n",
       "       [ 5.3077 ,  1.8396 ],\n",
       "       [ 7.4239 ,  4.2885 ],\n",
       "       [ 7.6031 ,  4.9981 ],\n",
       "       [ 6.3328 ,  1.4233 ],\n",
       "       [ 6.3589 , -1.4211 ],\n",
       "       [ 6.2742 ,  2.4756 ],\n",
       "       [ 5.6397 ,  4.6042 ],\n",
       "       [ 9.3102 ,  3.9624 ],\n",
       "       [ 9.4536 ,  5.4141 ],\n",
       "       [ 8.8254 ,  5.1694 ],\n",
       "       [ 5.1793 , -0.74279],\n",
       "       [21.279  , 17.929  ],\n",
       "       [14.908  , 12.054  ],\n",
       "       [18.959  , 17.054  ],\n",
       "       [ 7.2182 ,  4.8852 ],\n",
       "       [ 8.2951 ,  5.7442 ],\n",
       "       [10.236  ,  7.7754 ],\n",
       "       [ 5.4994 ,  1.0173 ],\n",
       "       [20.341  , 20.992  ],\n",
       "       [10.136  ,  6.6799 ],\n",
       "       [ 7.3345 ,  4.0259 ],\n",
       "       [ 6.0062 ,  1.2784 ],\n",
       "       [ 7.2259 ,  3.3411 ],\n",
       "       [ 5.0269 , -2.6807 ],\n",
       "       [ 6.5479 ,  0.29678],\n",
       "       [ 7.5386 ,  3.8845 ],\n",
       "       [ 5.0365 ,  5.7014 ],\n",
       "       [10.274  ,  6.7526 ],\n",
       "       [ 5.1077 ,  2.0576 ],\n",
       "       [ 5.7292 ,  0.47953],\n",
       "       [ 5.1884 ,  0.20421],\n",
       "       [ 6.3557 ,  0.67861],\n",
       "       [ 9.7687 ,  7.5435 ],\n",
       "       [ 6.5159 ,  5.3436 ],\n",
       "       [ 8.5172 ,  4.2415 ],\n",
       "       [ 9.1802 ,  6.7981 ],\n",
       "       [ 6.002  ,  0.92695],\n",
       "       [ 5.5204 ,  0.152  ],\n",
       "       [ 5.0594 ,  2.8214 ],\n",
       "       [ 5.7077 ,  1.8451 ],\n",
       "       [ 7.6366 ,  4.2959 ],\n",
       "       [ 5.8707 ,  7.2029 ],\n",
       "       [ 5.3054 ,  1.9869 ],\n",
       "       [ 8.2934 ,  0.14454],\n",
       "       [13.394  ,  9.0551 ],\n",
       "       [ 5.4369 ,  0.61705]])"
      ]
     },
     "execution_count": 122,
     "metadata": {},
     "output_type": "execute_result"
    }
   ],
   "source": [
    "data_n = data.values\n",
    "# printing the data values\n",
    "data_n"
   ]
  },
  {
   "cell_type": "code",
   "execution_count": 123,
   "id": "d49ac35e",
   "metadata": {},
   "outputs": [],
   "source": [
    "x = data_n[:, 0]"
   ]
  },
  {
   "cell_type": "code",
   "execution_count": 124,
   "id": "2bfc06dc",
   "metadata": {},
   "outputs": [],
   "source": [
    "y = data_n[:, 1]"
   ]
  },
  {
   "cell_type": "code",
   "execution_count": 125,
   "id": "8a93a3b0",
   "metadata": {},
   "outputs": [],
   "source": [
    "#obtaining every row's data value from the first column (index 0) and second column (index 1)"
   ]
  },
  {
   "cell_type": "code",
   "execution_count": 126,
   "id": "0877ad4f",
   "metadata": {},
   "outputs": [
    {
     "data": {
      "image/png": "[encoded data removed]",
      "text/plain": [
       "<Figure size 640x480 with 1 Axes>"
      ]
     },
     "metadata": {},
     "output_type": "display_data"
    }
   ],
   "source": [
    "plt.scatter(x, y)\n",
    "plt.xlabel('R')\n",
    "plt.ylabel('S')\n",
    "#to plot data set values\n",
    "plt.show()"
   ]
  },
  {
   "cell_type": "code",
   "execution_count": 127,
   "id": "69d77a4e",
   "metadata": {},
   "outputs": [
    {
     "name": "stdout",
     "output_type": "stream",
     "text": [
      "theta:  [[0.]\n",
      " [0.]]\n",
      "x:  [[ 1.      6.1101]\n",
      " [ 1.      5.5277]\n",
      " [ 1.      8.5186]\n",
      " [ 1.      7.0032]\n",
      " [ 1.      5.8598]\n",
      " [ 1.      8.3829]\n",
      " [ 1.      7.4764]\n",
      " [ 1.      8.5781]\n",
      " [ 1.      6.4862]\n",
      " [ 1.      5.0546]\n",
      " [ 1.      5.7107]\n",
      " [ 1.     14.164 ]\n",
      " [ 1.      5.734 ]\n",
      " [ 1.      8.4084]\n",
      " [ 1.      5.6407]\n",
      " [ 1.      5.3794]\n",
      " [ 1.      6.3654]\n",
      " [ 1.      5.1301]\n",
      " [ 1.      6.4296]\n",
      " [ 1.      7.0708]\n",
      " [ 1.      6.1891]\n",
      " [ 1.     20.27  ]\n",
      " [ 1.      5.4901]\n",
      " [ 1.      6.3261]\n",
      " [ 1.      5.5649]\n",
      " [ 1.     18.945 ]\n",
      " [ 1.     12.828 ]\n",
      " [ 1.     10.957 ]\n",
      " [ 1.     13.176 ]\n",
      " [ 1.     22.203 ]\n",
      " [ 1.      5.2524]\n",
      " [ 1.      6.5894]\n",
      " [ 1.      9.2482]\n",
      " [ 1.      5.8918]\n",
      " [ 1.      8.2111]\n",
      " [ 1.      7.9334]\n",
      " [ 1.      8.0959]\n",
      " [ 1.      5.6063]\n",
      " [ 1.     12.836 ]\n",
      " [ 1.      6.3534]\n",
      " [ 1.      5.4069]\n",
      " [ 1.      6.8825]\n",
      " [ 1.     11.708 ]\n",
      " [ 1.      5.7737]\n",
      " [ 1.      7.8247]\n",
      " [ 1.      7.0931]\n",
      " [ 1.      5.0702]\n",
      " [ 1.      5.8014]\n",
      " [ 1.     11.7   ]\n",
      " [ 1.      5.5416]\n",
      " [ 1.      7.5402]\n",
      " [ 1.      5.3077]\n",
      " [ 1.      7.4239]\n",
      " [ 1.      7.6031]\n",
      " [ 1.      6.3328]\n",
      " [ 1.      6.3589]\n",
      " [ 1.      6.2742]\n",
      " [ 1.      5.6397]\n",
      " [ 1.      9.3102]\n",
      " [ 1.      9.4536]\n",
      " [ 1.      8.8254]\n",
      " [ 1.      5.1793]\n",
      " [ 1.     21.279 ]\n",
      " [ 1.     14.908 ]\n",
      " [ 1.     18.959 ]\n",
      " [ 1.      7.2182]\n",
      " [ 1.      8.2951]\n",
      " [ 1.     10.236 ]\n",
      " [ 1.      5.4994]\n",
      " [ 1.     20.341 ]\n",
      " [ 1.     10.136 ]\n",
      " [ 1.      7.3345]\n",
      " [ 1.      6.0062]\n",
      " [ 1.      7.2259]\n",
      " [ 1.      5.0269]\n",
      " [ 1.      6.5479]\n",
      " [ 1.      7.5386]\n",
      " [ 1.      5.0365]\n",
      " [ 1.     10.274 ]\n",
      " [ 1.      5.1077]\n",
      " [ 1.      5.7292]\n",
      " [ 1.      5.1884]\n",
      " [ 1.      6.3557]\n",
      " [ 1.      9.7687]\n",
      " [ 1.      6.5159]\n",
      " [ 1.      8.5172]\n",
      " [ 1.      9.1802]\n",
      " [ 1.      6.002 ]\n",
      " [ 1.      5.5204]\n",
      " [ 1.      5.0594]\n",
      " [ 1.      5.7077]\n",
      " [ 1.      7.6366]\n",
      " [ 1.      5.8707]\n",
      " [ 1.      5.3054]\n",
      " [ 1.      8.2934]\n",
      " [ 1.     13.394 ]\n",
      " [ 1.      5.4369]]\n"
     ]
    }
   ],
   "source": [
    "m = len(x)\n",
    "x = x.reshape(m, 1) \n",
    "y = y.reshape(m, 1)\n",
    "theta = np.zeros((2, 1))  \n",
    "print(\"theta: \",theta)\n",
    "x = np.c_[np.ones(x.shape[0]), x]\n",
    "print(\"x: \",x)\n",
    "LRate = 0.00001\n",
    "itr = 1000000\n",
    "# X,Y are converted to a column vector using the gradient descent technique.#create a column vector of zeros to represent theta.\n",
    "# increasing x for the intercept phrase by a column of ones and # learning rate is ntg but it determines how much the value of m and c changes each time; l should be a low number for good accuracy.\n",
    "# If the l is too great, the gradient won't descend to its lowest point and will instead continue to oscillate."
   ]
  },
  {
   "cell_type": "code",
   "execution_count": 132,
   "id": "8c60fde1",
   "metadata": {},
   "outputs": [],
   "source": [
    "def costfunction(x, y, theta):\n",
    "    m = len(x)    \n",
    "    prediction = x.dot(theta)   \n",
    "    square_err = prediction - y    \n",
    "    j = (1 / (2 * m)) * np.sum(np.square(square_err))  \n",
    "    return j\n",
    "\n",
    "#finding mean squaare error and error  difference between predicated and actual value of y"
   ]
  },
  {
   "cell_type": "code",
   "execution_count": 133,
   "id": "192f6d0b",
   "metadata": {},
   "outputs": [],
   "source": [
    "#to update the theta value and also cost function values got storing ,before that developed a code inorder to predict a valueand error\n",
    "def gd_algo(x, y, theta, alpha, itr):\n",
    "\n",
    "    m = len(x)\n",
    "  \n",
    "    cost = np.zeros((itr, 1))\n",
    "\n",
    "    for i in range(itr):\n",
    "        \n",
    "        prediction = x.dot(theta)\n",
    "       \n",
    "        error = prediction - y\n",
    "        \n",
    "        derivative = 1 / m * x.T.dot(error)\n",
    "        \n",
    "        theta = theta - alpha * derivative\n",
    "       \n",
    "        cost[i] = costfunction(x, y, theta)\n",
    "    \n",
    "    return theta, cost"
   ]
  },
  {
   "cell_type": "code",
   "execution_count": 141,
   "id": "155ff99c",
   "metadata": {},
   "outputs": [
    {
     "data": {
      "image/png": "[encoded data removed]",
      "text/plain": [
       "<Figure size 640x480 with 1 Axes>"
      ]
     },
     "metadata": {},
     "output_type": "display_data"
    }
   ],
   "source": [
    "theta, cost_history = gd_algo(x, y, theta, LRate, itr)\n",
    "\n",
    "# ----> Plotting the cost function <----\n",
    "plt.plot(cost_history)\n",
    "plt.xlabel('Iterations')\n",
    "plt.ylabel('Cost')\n",
    "plt.title('Cost Function')\n",
    "plt.show()\n",
    "#gradient desent algorithm function\n"
   ]
  },
  {
   "cell_type": "code",
   "execution_count": 135,
   "id": "fcf56b51",
   "metadata": {},
   "outputs": [
    {
     "data": {
      "image/png": "[encoded data removed]",
      "text/plain": [
       "<Figure size 640x480 with 1 Axes>"
      ]
     },
     "metadata": {},
     "output_type": "display_data"
    }
   ],
   "source": [
    "plt.scatter(x[:, 1], y)\n",
    "plt.plot(x[:, 1], x.dot(theta), color='violet')\n",
    "plt.xlabel('R')\n",
    "plt.ylabel('S')\n",
    "plt.title('Linear Regression Line')\n",
    "plt.show()"
   ]
  }
 ],
 "metadata": {
  "kernelspec": {
   "display_name": "Python 3 (ipykernel)",
   "language": "python",
   "name": "python3"
  },
  "language_info": {
   "codemirror_mode": {
    "name": "ipython",
    "version": 3
   },
   "file_extension": ".py",
   "mimetype": "text/x-python",
   "name": "python",
   "nbconvert_exporter": "python",
   "pygments_lexer": "ipython3",
   "version": "3.9.13"
  }
 },
 "nbformat": 4,
 "nbformat_minor": 5
}
