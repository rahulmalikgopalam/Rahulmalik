{
 "cells": [
  {
   "cell_type": "markdown",
   "id": "6b230d13",
   "metadata": {},
   "source": [
    "# GOPALAM.RAHUL MALIK\n",
    "AM.EN.U4EEE20030\n",
    "MACHINE LEARNING\n",
    "LAB-ASSIGNMENT -01\n",
    "LINEAR REGRESSION\n",
    "\n"
   ]
  },
  {
   "cell_type": "code",
   "execution_count": 2,
   "id": "2f4cec4f",
   "metadata": {},
   "outputs": [],
   "source": [
    "import numpy as np\n",
    "import matplotlib.pyplot as plt\n",
    "import pandas as pd\n",
    "from sklearn.linear_model import LinearRegression\n",
    "\n",
    "#Gopalam.Rahul Malik\n",
    "#AM.EN.U4EEE20030\n",
    "\n"
   ]
  },
  {
   "cell_type": "markdown",
   "id": "7af6e20f",
   "metadata": {},
   "source": [
    "# EXPLAINATION"
   ]
  },
  {
   "cell_type": "markdown",
   "id": "a270d544",
   "metadata": {},
   "source": [
    "#Numpy was introduced to do computations.\n",
    "#Matplotlib has been employed to show the data and do linear regression.\n",
    "#pandas was utilized in order to import the data collection.\n",
    "#LinearRegression is a Python class that executes linear regression and therefore is included from sklearn.\n"
   ]
  },
  {
   "cell_type": "code",
   "execution_count": 7,
   "id": "ea9e655f",
   "metadata": {},
   "outputs": [],
   "source": [
    "data = pd.read_csv('CSV_EX_1.csv')\n",
    "a = data.iloc[:, 0].values.reshape(-1, 1)\n",
    "b = data.iloc[:, 1].values.reshape(-1, 1) \n",
    "LR = LinearRegression()\n",
    "LR.fit(x, y)\n",
    "b_prediction = LR.predict(x)                        "
   ]
  },
  {
   "cell_type": "code",
   "execution_count": null,
   "id": "9772c94d",
   "metadata": {},
   "outputs": [],
   "source": [
    "# Exporting a dataset to a numpy array\n",
    "# retrieving values from column 2 or index \"0\"\n",
    "#Data separation into independent and dependent variables ——\n",
    "# Extracting values from the first column, which has the index \"0\"\n",
    "# Transforming a dataset into a numpy array # we are reshping by passing \"-1\" as the first input -> this signals that the model will determine the row dimension automatically.\n",
    "# \"1\" as second input -> indicates that the column dimension has one independent variable value.\n",
    "# To do linear regression, we must create a regression object and use the fit method (fit training data)\n",
    "# y prediction is made up of prediction values, which are obtained by passing x values to the function predict(), which returns the perceptive label for each object in the array.\n"
   ]
  },
  {
   "cell_type": "code",
   "execution_count": 9,
   "id": "3dba7c70",
   "metadata": {},
   "outputs": [
    {
     "data": {
      "image/png": "[encoded data removed]",
      "text/plain": [
       "<Figure size 640x480 with 1 Axes>"
      ]
     },
     "metadata": {},
     "output_type": "display_data"
    }
   ],
   "source": [
    "plt.scatter(a, b)\n",
    "plt.plot(a, b_prediction, color='violet')\n",
    "plt.show()"
   ]
  },
  {
   "cell_type": "markdown",
   "id": "b060dfd1",
   "metadata": {},
   "source": [
    "#The classes/methods in the mathplotlib module that are used to show the data set and the regression line are scatter and plot."
   ]
  }
 ],
 "metadata": {
  "kernelspec": {
   "display_name": "Python 3 (ipykernel)",
   "language": "python",
   "name": "python3"
  },
  "language_info": {
   "codemirror_mode": {
    "name": "ipython",
    "version": 3
   },
   "file_extension": ".py",
   "mimetype": "text/x-python",
   "name": "python",
   "nbconvert_exporter": "python",
   "pygments_lexer": "ipython3",
   "version": "3.9.13"
  }
 },
 "nbformat": 4,
 "nbformat_minor": 5
}
